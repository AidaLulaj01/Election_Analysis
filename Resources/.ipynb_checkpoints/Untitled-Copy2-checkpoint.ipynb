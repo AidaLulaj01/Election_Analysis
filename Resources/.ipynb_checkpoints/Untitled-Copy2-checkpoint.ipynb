{
 "cells": [
  {
   "cell_type": "code",
   "execution_count": 32,
   "id": "76fca8cb",
   "metadata": {},
   "outputs": [],
   "source": [
    "import os"
   ]
  },
  {
   "cell_type": "code",
   "execution_count": 33,
   "id": "8aa47e71",
   "metadata": {},
   "outputs": [],
   "source": [
    "import csv"
   ]
  },
  {
   "cell_type": "code",
   "execution_count": 34,
   "id": "f60a316e",
   "metadata": {},
   "outputs": [],
   "source": [
    "file_to_load = os.path.join(\"..\", \"Resources\", \"election_results.csv\")"
   ]
  },
  {
   "cell_type": "code",
   "execution_count": 35,
   "id": "dc948c6c",
   "metadata": {},
   "outputs": [],
   "source": [
    "file_to_save = os.path.join(\"analysis\", \"election_analysis.txt\")"
   ]
  },
  {
   "cell_type": "code",
   "execution_count": 36,
   "id": "36ff7eb3",
   "metadata": {},
   "outputs": [],
   "source": [
    "# 1. Initialize a total vote counter.\n",
    "total_votes = 0\n"
   ]
  },
  {
   "cell_type": "code",
   "execution_count": 37,
   "id": "b71643e5",
   "metadata": {},
   "outputs": [],
   "source": [
    "# Candidate options and candidate votes\n",
    "candidate_options = []\n",
    "# 1. Declare the empty dictionary.\n",
    "candidate_votes = {}"
   ]
  },
  {
   "cell_type": "code",
   "execution_count": 38,
   "id": "42fdcf62",
   "metadata": {},
   "outputs": [],
   "source": [
    "# 2. Open the election results and read the file.\n",
    "with open(file_to_load) as election_data:\n",
    "    file_reader = csv.reader(election_data)\n",
    "\n",
    "    # Read the header row.\n",
    "    headers = next(file_reader)\n",
    "\n",
    "    # Print each row in the CSV file.\n",
    "    for row in file_reader:\n",
    "        # Add to the total vote count.\n",
    "        total_votes += 1\n",
    "\n",
    "        # Print the candidate name from each row.\n",
    "        candidate_name = row[2]\n",
    "          \n",
    "        if candidate_name not in candidate_options:\n",
    "           # Add the candidate name to the candidate list.\n",
    "            candidate_options.append(candidate_name)\n",
    "\n",
    "           # Begin tracking that candidate's vote count.\n",
    "            candidate_votes[candidate_name] = 0\n",
    "            \n",
    "           # Add a vote to that candidate's count.\n",
    "            candidate_votes[candidate_name] += 1"
   ]
  },
  {
   "cell_type": "code",
   "execution_count": 39,
   "id": "a57bf9cd",
   "metadata": {},
   "outputs": [
    {
     "name": "stdout",
     "output_type": "stream",
     "text": [
      "{'Charles Casper Stockham': 1, 'Diana DeGette': 1, 'Raymon Anthony Doane': 1}\n"
     ]
    }
   ],
   "source": [
    "# Print the candidate vote dictionary.\n",
    "print(candidate_votes)"
   ]
  },
  {
   "cell_type": "code",
   "execution_count": 41,
   "id": "8c225519",
   "metadata": {},
   "outputs": [
    {
     "name": "stdout",
     "output_type": "stream",
     "text": [
      "Charles Casper Stockham: received 0.0002704815382826045% of the vote.\n",
      "Diana DeGette: received 0.0002704815382826045% of the vote.\n",
      "Raymon Anthony Doane: received 0.0002704815382826045% of the vote.\n"
     ]
    }
   ],
   "source": [
    "# Determine the percentage of votes for each candidate by looping through the counts.\n",
    "# 1. Iterate through the candidate list.\n",
    "for candidate_name in candidate_votes:\n",
    "    # 2. Retrieve vote count of a candidate.\n",
    "    votes = candidate_votes[candidate_name]\n",
    "    # 3. Calculate the percentage of votes.\n",
    "    vote_percentage = float(votes) / float(total_votes) * 100\n",
    "    # 4. Print the candidate name and percentage of votes.\n",
    "    print(f\"{candidate_name}: received {vote_percentage}% of the vote.\")"
   ]
  },
  {
   "cell_type": "code",
   "execution_count": null,
   "id": "34983175",
   "metadata": {},
   "outputs": [],
   "source": []
  }
 ],
 "metadata": {
  "kernelspec": {
   "display_name": "Python 3",
   "language": "python",
   "name": "python3"
  },
  "language_info": {
   "codemirror_mode": {
    "name": "ipython",
    "version": 3
   },
   "file_extension": ".py",
   "mimetype": "text/x-python",
   "name": "python",
   "nbconvert_exporter": "python",
   "pygments_lexer": "ipython3",
   "version": "3.8.8"
  }
 },
 "nbformat": 4,
 "nbformat_minor": 5
}
