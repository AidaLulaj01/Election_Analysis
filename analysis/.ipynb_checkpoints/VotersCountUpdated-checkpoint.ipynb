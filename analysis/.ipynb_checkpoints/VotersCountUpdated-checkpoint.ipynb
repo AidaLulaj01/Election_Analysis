{
 "cells": [
  {
   "cell_type": "code",
   "execution_count": 1,
   "id": "76fca8cb",
   "metadata": {},
   "outputs": [],
   "source": [
    "import os"
   ]
  },
  {
   "cell_type": "code",
   "execution_count": 2,
   "id": "8aa47e71",
   "metadata": {},
   "outputs": [],
   "source": [
    "import csv"
   ]
  },
  {
   "cell_type": "code",
   "execution_count": 3,
   "id": "f60a316e",
   "metadata": {},
   "outputs": [],
   "source": [
    "file_to_load = os.path.join(\"..\", \"Resources\", \"election_results.csv\")"
   ]
  },
  {
   "cell_type": "code",
   "execution_count": 4,
   "id": "dc948c6c",
   "metadata": {},
   "outputs": [],
   "source": [
    "file_to_save = os.path.join(\"analysis\", \"election_analysis.txt\")"
   ]
  },
  {
   "cell_type": "code",
   "execution_count": 5,
   "id": "36ff7eb3",
   "metadata": {},
   "outputs": [],
   "source": [
    "# 1. Initialize a total vote counter.\n",
    "total_votes = 0\n"
   ]
  },
  {
   "cell_type": "code",
   "execution_count": 6,
   "id": "4c3e133b",
   "metadata": {},
   "outputs": [],
   "source": [
    "# Candidate options and candidate votes\n",
    "candidate_options = []\n",
    "\n",
    "# Declare the empty dictionary.\n",
    "candidate_votes = {}\n",
    "\n",
    "# Winning Candidate and Winning Count Tracker\n",
    "winning_candidate = \"\"\n",
    "winning_count = 0\n",
    "winning_percentage = 0\n",
    "winning_candidate_summary = \"\"\n",
    "election_results = \"\""
   ]
  },
  {
   "cell_type": "code",
   "execution_count": 7,
   "id": "42fdcf62",
   "metadata": {},
   "outputs": [],
   "source": [
    "# 2. Open the election results and read the file.\n",
    "with open(file_to_load) as election_data:\n",
    "    file_reader = csv.reader(election_data)\n",
    "\n",
    "    # Read the header row.\n",
    "    headers = next(file_reader)\n",
    "\n",
    "    # Print each row in the CSV file.\n",
    "    for row in file_reader:\n",
    "        # Add to the total vote count.\n",
    "        total_votes += 1\n",
    "\n",
    "        # Print the candidate name from each row.\n",
    "        candidate_name = row[2]\n",
    "          \n",
    "        if candidate_name not in candidate_options:\n",
    "           # Add the candidate name to the candidate list.\n",
    "            candidate_options.append(candidate_name)\n",
    "\n",
    "           # Begin tracking that candidate's vote count.\n",
    "            candidate_votes[candidate_name] = 0\n",
    "            \n",
    "        # Add a vote to that candidate's count.\n",
    "        candidate_votes[candidate_name] += 1\n"
   ]
  },
  {
   "cell_type": "code",
   "execution_count": 8,
   "id": "a57bf9cd",
   "metadata": {},
   "outputs": [],
   "source": [
    "    # Print the candidate vote dictionary.\n",
    "    # print(candidate_votes)\n",
    "    # print(election_results)\n",
    "\n"
   ]
  },
  {
   "cell_type": "code",
   "execution_count": 9,
   "id": "45db7e97",
   "metadata": {},
   "outputs": [
    {
     "ename": "FileNotFoundError",
     "evalue": "[Errno 2] No such file or directory: 'analysis/election_analysis.txt'",
     "output_type": "error",
     "traceback": [
      "\u001b[0;31m---------------------------------------------------------------------------\u001b[0m",
      "\u001b[0;31mFileNotFoundError\u001b[0m                         Traceback (most recent call last)",
      "\u001b[0;32m<ipython-input-9-245684a5031b>\u001b[0m in \u001b[0;36m<module>\u001b[0;34m\u001b[0m\n\u001b[1;32m      1\u001b[0m \u001b[0;31m# Save the results to our text file.\u001b[0m\u001b[0;34m\u001b[0m\u001b[0;34m\u001b[0m\u001b[0;34m\u001b[0m\u001b[0m\n\u001b[0;32m----> 2\u001b[0;31m \u001b[0;32mwith\u001b[0m \u001b[0mopen\u001b[0m\u001b[0;34m(\u001b[0m\u001b[0mfile_to_save\u001b[0m\u001b[0;34m,\u001b[0m \u001b[0;34m\"w\"\u001b[0m\u001b[0;34m)\u001b[0m \u001b[0;32mas\u001b[0m \u001b[0mtxt_file\u001b[0m\u001b[0;34m:\u001b[0m\u001b[0;34m\u001b[0m\u001b[0;34m\u001b[0m\u001b[0m\n\u001b[0m\u001b[1;32m      3\u001b[0m \u001b[0;34m\u001b[0m\u001b[0m\n\u001b[1;32m      4\u001b[0m     \u001b[0;31m# Determine the percentage of votes for each candidate by looping through the counts.\u001b[0m\u001b[0;34m\u001b[0m\u001b[0;34m\u001b[0m\u001b[0;34m\u001b[0m\u001b[0m\n\u001b[1;32m      5\u001b[0m     \u001b[0;31m# Iterate through the candidate list.\u001b[0m\u001b[0;34m\u001b[0m\u001b[0;34m\u001b[0m\u001b[0;34m\u001b[0m\u001b[0m\n",
      "\u001b[0;31mFileNotFoundError\u001b[0m: [Errno 2] No such file or directory: 'analysis/election_analysis.txt'"
     ]
    }
   ],
   "source": [
    "# Save the results to our text file.\n",
    "with open(file_to_save, \"w\") as txt_file:\n",
    "   # After opening the file print the final vote count to the terminal.\n",
    "    election_results = (\n",
    "        f\"\\nElection Results\\n\"\n",
    "        f\"-------------------------\\n\"\n",
    "        f\"Total Votes: {total_votes:,}\\n\"\n",
    "        f\"-------------------------\\n\")\n",
    "    print(election_results, end=\"\")\n",
    "    # After printing the final vote count to the terminal save the final vote count to the text file.\n",
    "    txt_file.write(election_results)\n",
    "    \n",
    "    # Determine the percentage of votes for each candidate by looping through the counts.\n",
    "    # Iterate through the candidate list.\n",
    "    for candidate_name in candidate_votes:\n",
    "        # Retrieve vote count of a candidate.\n",
    "        votes = candidate_votes[candidate_name]\n",
    "        # Calculate the percentage of votes.\n",
    "        vote_percentage = float(votes) / float(total_votes) * 100\n",
    "\n",
    "        candidate_results = (\n",
    "            f\"{candidate_name}: {vote_percentage:.1f}% ({votes:,})\\n\")\n",
    "\n",
    "        # Print each candidate's voter count and percentage to the terminal.\n",
    "        print(candidate_results)\n",
    "        #  Save the candidate results to our text file.\n",
    "        txt_file.write(candidate_results)\n",
    "        \n",
    "        # Determine winning vote count and candidate\n",
    "        # Determine if the votes is greater than the winning count.\n",
    "        if (votes > winning_count) and (vote_percentage > winning_percentage):\n",
    "             # If true then set winning_count = votes and winning_percent =\n",
    "             # vote_percentage.\n",
    "             winning_count = votes\n",
    "             winning_candidate = candidate_name\n",
    "             winning_percentage = vote_percentage\n",
    "        \n",
    "    # Print the candidate name and percentage of votes.\n",
    "\n",
    "    winning_candidate_summary = (\n",
    "                                            f\"-------------------------\\n\"\n",
    "                                            f\"Winner: {winning_candidate}\\n\"\n",
    "                                            f\"Winning Vote Count: {winning_count:,}\\n\"\n",
    "                                            f\"Winning Percentage: {winning_percentage:.1f}%\\n\"\n",
    "                                            f\"-------------------------\\n\")\n",
    "    print(winning_candidate_summary)\n",
    "    # Save the winning candidate's results to the text file.\n",
    "    txt_file.write(winning_candidate_summary)"
   ]
  },
  {
   "cell_type": "code",
   "execution_count": null,
   "id": "a173e8f8",
   "metadata": {},
   "outputs": [],
   "source": []
  }
 ],
 "metadata": {
  "kernelspec": {
   "display_name": "Python 3",
   "language": "python",
   "name": "python3"
  },
  "language_info": {
   "codemirror_mode": {
    "name": "ipython",
    "version": 3
   },
   "file_extension": ".py",
   "mimetype": "text/x-python",
   "name": "python",
   "nbconvert_exporter": "python",
   "pygments_lexer": "ipython3",
   "version": "3.8.8"
  }
 },
 "nbformat": 4,
 "nbformat_minor": 5
}
