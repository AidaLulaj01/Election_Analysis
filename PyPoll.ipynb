{
 "cells": [
  {
   "cell_type": "code",
   "execution_count": 11,
   "id": "76fca8cb",
   "metadata": {},
   "outputs": [],
   "source": [
    "import os"
   ]
  },
  {
   "cell_type": "code",
   "execution_count": 12,
   "id": "8aa47e71",
   "metadata": {},
   "outputs": [],
   "source": [
    "import csv"
   ]
  },
  {
   "cell_type": "code",
   "execution_count": 13,
   "id": "f60a316e",
   "metadata": {},
   "outputs": [],
   "source": [
    "file_to_load = os.path.join(\"..\", \"Resources\", \"election_results.csv\")"
   ]
  },
  {
   "cell_type": "code",
   "execution_count": 14,
   "id": "dc948c6c",
   "metadata": {},
   "outputs": [],
   "source": [
    "file_to_save = os.path.join(\"analysis\", \"election_analysis.txt\")"
   ]
  },
  {
   "cell_type": "code",
   "execution_count": 15,
   "id": "36ff7eb3",
   "metadata": {},
   "outputs": [],
   "source": [
    "# 1. Initialize a total vote counter.\n",
    "total_votes = 0\n"
   ]
  },
  {
   "cell_type": "code",
   "execution_count": 16,
   "id": "b9417204",
   "metadata": {},
   "outputs": [],
   "source": [
    "# Candidate options and candidate votes\n",
    "candidate_options = []\n",
    "\n",
    "# Declare the empty dictionary.\n",
    "candidate_votes = {}\n",
    "\n",
    "# Winning Candidate and Winning Count Tracker\n",
    "winning_candidate = \"\"\n",
    "winning_count = 0\n",
    "winning_percentage = 0\n",
    "winning_candidate_summary = \"\""
   ]
  },
  {
   "cell_type": "code",
   "execution_count": 17,
   "id": "42fdcf62",
   "metadata": {},
   "outputs": [],
   "source": [
    "# 2. Open the election results and read the file.\n",
    "with open(file_to_load) as election_data:\n",
    "    file_reader = csv.reader(election_data)\n",
    "\n",
    "    # Read the header row.\n",
    "    headers = next(file_reader)\n",
    "\n",
    "    # Print each row in the CSV file.\n",
    "    for row in file_reader:\n",
    "        # Add to the total vote count.\n",
    "        total_votes += 1\n",
    "\n",
    "        # Print the candidate name from each row.\n",
    "        candidate_name = row[2]\n",
    "          \n",
    "        if candidate_name not in candidate_options:\n",
    "           # Add the candidate name to the candidate list.\n",
    "            candidate_options.append(candidate_name)\n",
    "\n",
    "           # Begin tracking that candidate's vote count.\n",
    "            candidate_votes[candidate_name] = 0\n",
    "            \n",
    "        # Add a vote to that candidate's count.\n",
    "        candidate_votes[candidate_name] += 1"
   ]
  },
  {
   "cell_type": "code",
   "execution_count": 18,
   "id": "a57bf9cd",
   "metadata": {},
   "outputs": [
    {
     "name": "stdout",
     "output_type": "stream",
     "text": [
      "{'Charles Casper Stockham': 85213, 'Diana DeGette': 272892, 'Raymon Anthony Doane': 11606}\n"
     ]
    }
   ],
   "source": [
    "# Print the candidate vote dictionary.\n",
    "print(candidate_votes)"
   ]
  },
  {
   "cell_type": "code",
   "execution_count": 19,
   "id": "bff7d999",
   "metadata": {},
   "outputs": [
    {
     "name": "stdout",
     "output_type": "stream",
     "text": [
      "-------------------------\n",
      "Winner: Charles Casper Stockham\n",
      "Winning Vote Count: 85,213\n",
      "Winning Percentage: 23.0%\n",
      "-------------------------\n",
      "\n",
      "-------------------------\n",
      "Winner: Diana DeGette\n",
      "Winning Vote Count: 272,892\n",
      "Winning Percentage: 73.8%\n",
      "-------------------------\n",
      "\n",
      "-------------------------\n",
      "Winner: Diana DeGette\n",
      "Winning Vote Count: 272,892\n",
      "Winning Percentage: 73.8%\n",
      "-------------------------\n",
      "\n"
     ]
    }
   ],
   "source": [
    "# Determine the percentage of votes for each candidate by looping through the counts.\n",
    "# Iterate through the candidate list.\n",
    "for candidate_name in candidate_votes:\n",
    "    # Retrieve vote count of a candidate.\n",
    "    votes = candidate_votes[candidate_name]\n",
    "    # Calculate the percentage of votes.\n",
    "    vote_percentage = float(votes) / float(total_votes) * 100\n",
    "\n",
    "    #  To do: print out each candidate's name, vote count, and percentage of\n",
    "    # votes to the terminal.\n",
    "\n",
    "    # Determine winning vote count and candidate\n",
    "    # Determine if the votes is greater than the winning count.\n",
    "    if (votes > winning_count) and (vote_percentage > winning_percentage):\n",
    "         # If true then set winning_count = votes and winning_percent =\n",
    "         # vote_percentage.\n",
    "         winning_count = votes\n",
    "         winning_percentage = vote_percentage\n",
    "         # And, set the winning_candidate equal to the candidate's name.\n",
    "         winning_candidate = candidate_name\n",
    "    # 4. Print the candidate name and percentage of votes.\n",
    "    # print(f\"{candidate_name}: {vote_percentage:.1f}% ({votes:,})\\n\")\n",
    "    \n",
    "         winning_candidate_summary = (\n",
    "                                        f\"-------------------------\\n\"\n",
    "                                        f\"Winner: {winning_candidate}\\n\"\n",
    "                                        f\"Winning Vote Count: {winning_count:,}\\n\"\n",
    "                                        f\"Winning Percentage: {winning_percentage:.1f}%\\n\"\n",
    "                                        f\"-------------------------\\n\")\n",
    "    print(winning_candidate_summary)"
   ]
  },
  {
   "cell_type": "code",
   "execution_count": null,
   "id": "9474514f",
   "metadata": {},
   "outputs": [],
   "source": []
  }
 ],
 "metadata": {
  "kernelspec": {
   "display_name": "Python 3",
   "language": "python",
   "name": "python3"
  },
  "language_info": {
   "codemirror_mode": {
    "name": "ipython",
    "version": 3
   },
   "file_extension": ".py",
   "mimetype": "text/x-python",
   "name": "python",
   "nbconvert_exporter": "python",
   "pygments_lexer": "ipython3",
   "version": "3.8.8"
  }
 },
 "nbformat": 4,
 "nbformat_minor": 5
}
